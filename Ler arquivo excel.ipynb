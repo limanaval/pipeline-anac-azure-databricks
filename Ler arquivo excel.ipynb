{
 "cells": [
  {
   "cell_type": "code",
   "execution_count": 0,
   "metadata": {
    "application/vnd.databricks.v1+cell": {
     "cellMetadata": {
      "byteLimit": 2048000,
      "rowLimit": 10000
     },
     "inputWidgets": {},
     "nuid": "772d3fd7-9270-4a47-90bd-8307bb266943",
     "showTitle": false,
     "tableResultSettingsMap": {},
     "title": ""
    }
   },
   "outputs": [],
   "source": [
    "import pandas as pd\n",
    "from pyspark.sql import SparkSession\n",
    "\n",
    "# Garante que Spark está inicializado\n",
    "spark = SparkSession.builder.getOrCreate()\n",
    "\n",
    "# Caminho do arquivo .xlsx\n",
    "file_path = \"/Volumes/workspace/medicicor/rdv/2024 X 2025.xlsx\"\n",
    "\n",
    "# Lê todas as abas\n",
    "sheets_dict = pd.read_excel(file_path, sheet_name=None, engine='openpyxl')\n",
    "\n",
    "# Itera por cada aba\n",
    "for sheet_name, pandas_df in sheets_dict.items():\n",
    "    clean_name = f\"tabela_{sheet_name.strip().lower().replace(' ', '_')}\"\n",
    "    \n",
    "    # Converte para string para evitar erros de schema\n",
    "    pandas_df = pandas_df.astype(str)\n",
    "    \n",
    "    # Cria DataFrame Spark\n",
    "    spark_df = spark.createDataFrame(pandas_df)\n",
    "    \n",
    "    # Registra como view temporária\n",
    "    spark_df.createOrReplaceTempView(clean_name)\n",
    "    \n",
    "    print(f\"✅ Tabela '{clean_name}' criada com sucesso!\")\n",
    "\n",
    "print(\"🎉 Todas as abas foram importadas como tabelas temporárias.\")"
   ]
  },
  {
   "cell_type": "code",
   "execution_count": 0,
   "metadata": {
    "application/vnd.databricks.v1+cell": {
     "cellMetadata": {
      "byteLimit": 2048000,
      "implicitDf": true,
      "rowLimit": 10000
     },
     "inputWidgets": {},
     "nuid": "2f70592a-61de-444a-a3df-04568e7ac167",
     "showTitle": false,
     "tableResultSettingsMap": {},
     "title": ""
    }
   },
   "outputs": [],
   "source": [
    "%sql\n",
    "SELECT * FROM tabela_base_consolidada"
   ]
  }
 ],
 "metadata": {
  "application/vnd.databricks.v1+notebook": {
   "computePreferences": null,
   "dashboards": [],
   "environmentMetadata": {
    "base_environment": "",
    "environment_version": "3"
   },
   "inputWidgetPreferences": null,
   "language": "python",
   "notebookMetadata": {
    "mostRecentlyExecutedCommandWithImplicitDF": {
     "commandId": 6872065721656555,
     "dataframes": [
      "_sqldf"
     ]
    },
    "pythonIndentUnit": 4
   },
   "notebookName": "Ler arquivo excel",
   "widgets": {}
  },
  "language_info": {
   "name": "python"
  }
 },
 "nbformat": 4,
 "nbformat_minor": 0
}
